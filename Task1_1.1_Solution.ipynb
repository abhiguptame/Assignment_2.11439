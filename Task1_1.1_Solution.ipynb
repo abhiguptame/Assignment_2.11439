{
 "cells": [
  {
   "cell_type": "markdown",
   "metadata": {},
   "source": [
    "# Task 1:"
   ]
  },
  {
   "cell_type": "markdown",
   "metadata": {},
   "source": [
    "### 1.1 Write a Python Program to implement your own myreduce() function which works exactly like Python's built-in function reduce()"
   ]
  },
  {
   "cell_type": "code",
   "execution_count": 2,
   "metadata": {},
   "outputs": [
    {
     "name": "stdout",
     "output_type": "stream",
     "text": [
      "Using Python's built-in reduce() function :  113\n",
      "Using my own myreduce() function:  113\n"
     ]
    }
   ],
   "source": [
    "'''\n",
    "This program implements myreduce() function which works exactly like Python's built-in function reduce().\n",
    "'''\n",
    "from functools import reduce #Importing reduce from functools package\n",
    "\n",
    "def myreduce(func, sequence): #Defining the myreduce function which takes two arguments (function and sequence) and returns a list\n",
    "    itr = iter(sequence)    \n",
    "    try:\n",
    "        start = next(itr)\n",
    "    except StopIteration:\n",
    "        raise TypeError(\"Calling myreduce() with empty sequence having no initial value\")        \n",
    "    accum_value = 0    \n",
    "    for y in sequence:\n",
    "        accum_value = func(accum_value, y)        \n",
    "    return accum_value\n",
    "    \n",
    "def sum_of_num(x,y): #Defining sum_of_num function which returns of sum of two numbers passed as arguments\n",
    "    return x+y\n",
    "\n",
    "test_list = [47,11,42,13]\n",
    "\n",
    "print(\"Using Python's built-in reduce() function : \", reduce(sum_of_num, test_list))\n",
    "print(\"Using my own myreduce() function: \",myreduce(sum_of_num, test_list))\n"
   ]
  }
 ],
 "metadata": {
  "kernelspec": {
   "display_name": "Python 3",
   "language": "python",
   "name": "python3"
  },
  "language_info": {
   "codemirror_mode": {
    "name": "ipython",
    "version": 3
   },
   "file_extension": ".py",
   "mimetype": "text/x-python",
   "name": "python",
   "nbconvert_exporter": "python",
   "pygments_lexer": "ipython3",
   "version": "3.6.4"
  }
 },
 "nbformat": 4,
 "nbformat_minor": 2
}
