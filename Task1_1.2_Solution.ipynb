{
 "cells": [
  {
   "cell_type": "markdown",
   "metadata": {},
   "source": [
    "# Task 1:"
   ]
  },
  {
   "cell_type": "markdown",
   "metadata": {},
   "source": [
    "### 1.2 Write a Python program to implement your own myfilter() function which works exactly like Python's built-in function filter()"
   ]
  },
  {
   "cell_type": "code",
   "execution_count": 1,
   "metadata": {},
   "outputs": [
    {
     "name": "stdout",
     "output_type": "stream",
     "text": [
      "Using Python's built-in filter() function :  [42, 34, 64, 48]\n",
      "Using my own myfilter() function:  [42, 34, 64, 48]\n"
     ]
    }
   ],
   "source": [
    "'''\n",
    "This program implements myfilter() function which works exactly like Python's built-in function filter().\n",
    "'''\n",
    "def myfilter(func, sequence ): #Defining the myfilter function which takes two arguments ( function and sequence ) and returns a list   \n",
    "    itr = iter(sequence)\n",
    "    filter_list=[]\n",
    "    for x in itr:\n",
    "       if(func(x)):                \n",
    "            filter_list.append(x)      \n",
    "    return filter_list\n",
    "\n",
    "def is_even_num(x): #Defining is_even_num function which takes an integer argument and return True if number is even and False otherwise\n",
    "    if x%2 ==0:\n",
    "        return True\n",
    "    return False\n",
    "    \n",
    "test_list = [47,11,42,13,34,64,23,45,48]\n",
    "\n",
    "print(\"Using Python's built-in filter() function : \",list(filter(is_even_num , test_list)) )\n",
    "print(\"Using my own myfilter() function: \",myfilter(is_even_num , test_list ))"
   ]
  },
  {
   "cell_type": "code",
   "execution_count": null,
   "metadata": {},
   "outputs": [],
   "source": []
  }
 ],
 "metadata": {
  "kernelspec": {
   "display_name": "Python 3",
   "language": "python",
   "name": "python3"
  },
  "language_info": {
   "codemirror_mode": {
    "name": "ipython",
    "version": 3
   },
   "file_extension": ".py",
   "mimetype": "text/x-python",
   "name": "python",
   "nbconvert_exporter": "python",
   "pygments_lexer": "ipython3",
   "version": "3.6.4"
  }
 },
 "nbformat": 4,
 "nbformat_minor": 2
}
