{
 "cells": [
  {
   "cell_type": "markdown",
   "metadata": {},
   "source": [
    "# Task 1:"
   ]
  },
  {
   "cell_type": "markdown",
   "metadata": {},
   "source": [
    "### 2. Implement List comprehensions to produce the following lists. Write List comprehensions to produce the following Lists\n",
    " <p>['A', 'C', 'A', 'D', 'G', 'I', ’L’, ‘ D’]<br/>\n",
    " ['x', 'xx', 'xxx', 'xxxx', 'y', 'yy', 'yyy', 'yyyy', 'z', 'zz', 'zzz', 'zzzz']<br/>\n",
    " ['x', 'y', 'z', 'xx', 'yy', 'zz', 'xx', 'yy', 'zz', 'xxxx', 'yyyy', 'zzzz']<br/>\n",
    " [[2], [3], [4], [3], [4], [5], [4], [5], [6]]<br/>\n",
    " [[2, 3, 4, 5], [3, 4, 5, 6], [4, 5, 6, 7], [5, 6, 7, 8]]<br/>\n",
    " [(1, 1), (2, 1), (3, 1), (1, 2), (2, 2), (3, 2), (1, 3), (2, 3), (3, 3)]</p>"
   ]
  },
  {
   "cell_type": "code",
   "execution_count": 1,
   "metadata": {},
   "outputs": [
    {
     "name": "stdout",
     "output_type": "stream",
     "text": [
      "['A', 'C', 'A', 'D', 'G', 'I', 'L', 'D']\n",
      "['x', 'xx', 'xxx', 'xxxx', 'y', 'yy', 'yyy', 'yyyy', 'z', 'zz', 'zzz', 'zzzz']\n",
      "['x', 'y', 'z', 'xx', 'yy', 'zz', 'xx', 'yy', 'zz', 'xxxx', 'yyyy', 'zzzz']\n",
      "[[2], [3], [4], [3], [4], [5], [4], [5], [6]]\n",
      "[[2, 3, 4, 5], [3, 4, 5, 6], [4, 5, 6, 7], [5, 6, 7, 8]]\n",
      "[(1, 1), (2, 1), (3, 1), (1, 2), (2, 2), (3, 2), (1, 3), (2, 3), (3, 3)]\n"
     ]
    }
   ],
   "source": [
    "'''\n",
    "This program produces the specified list using list comprehensions. \n",
    "'''\n",
    "result_list_1 = list(\"ACADGILD\")\n",
    "print(result_list_1)\n",
    "\n",
    "result_list_2 =list(i*j for i in \"xyz\" for j in range(1,5))\n",
    "print(result_list_2)\n",
    "\n",
    "list_3 = [1,2,2,4]\n",
    "result_list_3 = list(i*j for j in list_3 for i in \"xyz\")\n",
    "print(result_list_3)\n",
    "\n",
    "\n",
    "list_4 = [2,3,4]\n",
    "result_list_4 = list([i+n] for i in list_4 for n in range(0,3))\n",
    "print(result_list_4)\n",
    "\n",
    "list_5 = [2,3,4,5]\n",
    "result_list_5 = list([i + n for i in list_5] for n in range(0,4))\n",
    "print(result_list_5)\n",
    "\n",
    "list_6=[1,2,3]\n",
    "result_list_6 = list((b,a) for a in list_6 for b in list_6)\n",
    "print(result_list_6)"
   ]
  },
  {
   "cell_type": "code",
   "execution_count": null,
   "metadata": {},
   "outputs": [],
   "source": []
  }
 ],
 "metadata": {
  "kernelspec": {
   "display_name": "Python 3",
   "language": "python",
   "name": "python3"
  },
  "language_info": {
   "codemirror_mode": {
    "name": "ipython",
    "version": 3
   },
   "file_extension": ".py",
   "mimetype": "text/x-python",
   "name": "python",
   "nbconvert_exporter": "python",
   "pygments_lexer": "ipython3",
   "version": "3.6.4"
  }
 },
 "nbformat": 4,
 "nbformat_minor": 2
}
