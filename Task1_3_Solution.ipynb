{
 "cells": [
  {
   "cell_type": "markdown",
   "metadata": {},
   "source": [
    "# Task 1:"
   ]
  },
  {
   "cell_type": "markdown",
   "metadata": {},
   "source": [
    "### 3. Implement a function longestWord() that takes a list of words and returns the longest one."
   ]
  },
  {
   "cell_type": "code",
   "execution_count": 1,
   "metadata": {},
   "outputs": [
    {
     "data": {
      "text/plain": [
       "'AcadGild'"
      ]
     },
     "execution_count": 1,
     "metadata": {},
     "output_type": "execute_result"
    }
   ],
   "source": [
    "'''\n",
    "This program implements function longestWord() that takes a list of words and returns the longest one.\n",
    "'''\n",
    "def longestWord(list_of_words): #Defining longestword function which takes list of words as argument and returns the longest word\n",
    "    longest_word = list_of_words[0] \n",
    "    for word in list_of_words:\n",
    "        if len(longest_word) < len(word):\n",
    "            longest_word = word\n",
    "    return longest_word\n",
    "\n",
    "test_list = ['Hello','AcadGild', 'Data', 'Science', 'Masters','Course']\n",
    "\n",
    "longestWord(test_list)  "
   ]
  },
  {
   "cell_type": "code",
   "execution_count": null,
   "metadata": {},
   "outputs": [],
   "source": []
  }
 ],
 "metadata": {
  "kernelspec": {
   "display_name": "Python 3",
   "language": "python",
   "name": "python3"
  },
  "language_info": {
   "codemirror_mode": {
    "name": "ipython",
    "version": 3
   },
   "file_extension": ".py",
   "mimetype": "text/x-python",
   "name": "python",
   "nbconvert_exporter": "python",
   "pygments_lexer": "ipython3",
   "version": "3.6.4"
  }
 },
 "nbformat": 4,
 "nbformat_minor": 2
}
