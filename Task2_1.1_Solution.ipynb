{
 "cells": [
  {
   "cell_type": "markdown",
   "metadata": {},
   "source": [
    "# Task 2:"
   ]
  },
  {
   "cell_type": "markdown",
   "metadata": {},
   "source": [
    "### 1.1 Write a Python Program(with class concepts) to find the area of the triangle using the below formula. area = (s*(s-a)*(s-b)*(s-c)) ** 0.5 Function to take the length of the sides of triangle from user should be defined in the parent class and function to calculate the area should be defined in subclass."
   ]
  },
  {
   "cell_type": "code",
   "execution_count": 3,
   "metadata": {},
   "outputs": [
    {
     "name": "stdout",
     "output_type": "stream",
     "text": [
      "Area of the triangle of sides (a=3, b=4, c=5) : 6.0\n"
     ]
    }
   ],
   "source": [
    "'''\n",
    "This program finds the area of the triangle using formula: area = (s(s-a)(s-b)(s-c)) ** 0.5, where s=(a+b+c)*0.5. Function to take the length of the sides of triangle from user should be defined in the parent class and function to calculate the area should be defined in subclass.\n",
    "'''\n",
    "class Triangle(): #Defining Triangle Class : Parent class\n",
    "    \n",
    "    def __init__(self, a,b,c):\n",
    "        self.a = a\n",
    "        self.b = b\n",
    "        self.c = c\n",
    "        \n",
    "class AreaOfTriangle(Triangle): #Defining AreaOfTriangle Class : Subclass of Triangle parent class\n",
    "    \n",
    "    def __init__(self, a,b,c):\n",
    "        Triangle.__init__(self, a,b,c)\n",
    "        \n",
    "    def get_area(self): #Defining get_area function which returns area of the triangle of the given sides of triangle\n",
    "        s = (self.a + self.b + self.c) * 0.5\n",
    "        return (s*(s-self.a)*(s-self.b)*(s-self.c)) ** 0.5\n",
    "    \n",
    "triangle = AreaOfTriangle(3,4,5)\n",
    "print(\"Area of the triangle of sides (a=3, b=4, c=5) :\" ,triangle.get_area())"
   ]
  },
  {
   "cell_type": "code",
   "execution_count": null,
   "metadata": {},
   "outputs": [],
   "source": []
  }
 ],
 "metadata": {
  "kernelspec": {
   "display_name": "Python 3",
   "language": "python",
   "name": "python3"
  },
  "language_info": {
   "codemirror_mode": {
    "name": "ipython",
    "version": 3
   },
   "file_extension": ".py",
   "mimetype": "text/x-python",
   "name": "python",
   "nbconvert_exporter": "python",
   "pygments_lexer": "ipython3",
   "version": "3.6.4"
  }
 },
 "nbformat": 4,
 "nbformat_minor": 2
}
