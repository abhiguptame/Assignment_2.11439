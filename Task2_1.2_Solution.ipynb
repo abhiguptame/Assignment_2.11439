{
 "cells": [
  {
   "cell_type": "markdown",
   "metadata": {},
   "source": [
    "# Task 2:"
   ]
  },
  {
   "cell_type": "markdown",
   "metadata": {},
   "source": [
    "## 1.2 Write a function filter_long_words() that takes a list of words and an integer n and returns the list of words that are longer than n."
   ]
  },
  {
   "cell_type": "code",
   "execution_count": 1,
   "metadata": {},
   "outputs": [
    {
     "data": {
      "text/plain": [
       "['AcadGild', 'Science', 'Masters', 'Course']"
      ]
     },
     "execution_count": 1,
     "metadata": {},
     "output_type": "execute_result"
    }
   ],
   "source": [
    "'''\n",
    "This program implements function filter_long_words() that takes a list of words and an integer n and returns the list of words that are longer than n\n",
    "'''\n",
    "\n",
    "def filter_long_words(list_of_words, n): #Defining filter_long_words function which takes list of the words and integer n as argument and returns a list of word which are longer than n\n",
    "    result_list = []\n",
    "    for word in list_of_words:\n",
    "        if len(word) > n:\n",
    "            result_list.append(word)\n",
    "    return result_list\n",
    "\n",
    "test_list = ['Hello','AcadGild', 'Data', 'Science', 'Masters','Course']\n",
    "\n",
    "filter_long_words(test_list, 5)\n",
    "    "
   ]
  },
  {
   "cell_type": "code",
   "execution_count": null,
   "metadata": {},
   "outputs": [],
   "source": []
  }
 ],
 "metadata": {
  "kernelspec": {
   "display_name": "Python 3",
   "language": "python",
   "name": "python3"
  },
  "language_info": {
   "codemirror_mode": {
    "name": "ipython",
    "version": 3
   },
   "file_extension": ".py",
   "mimetype": "text/x-python",
   "name": "python",
   "nbconvert_exporter": "python",
   "pygments_lexer": "ipython3",
   "version": "3.6.4"
  }
 },
 "nbformat": 4,
 "nbformat_minor": 2
}
