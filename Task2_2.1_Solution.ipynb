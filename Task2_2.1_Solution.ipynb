{
 "cells": [
  {
   "cell_type": "markdown",
   "metadata": {},
   "source": [
    "# Task 2:"
   ]
  },
  {
   "cell_type": "markdown",
   "metadata": {},
   "source": [
    "### 2.1 Write a Python program using function concept that maps list of words into a list of integers representing the lengths of the corresponding words .\n",
    "<p>Hint: If a list [ ab,cde,erty] is passed on to the python function output should come as [2,3,4] <br/>\n",
    "Here 2,3 and 4 are the lengths of the words in the list.</p>"
   ]
  },
  {
   "cell_type": "code",
   "execution_count": 1,
   "metadata": {},
   "outputs": [
    {
     "data": {
      "text/plain": [
       "[5, 8, 4, 7, 7, 6]"
      ]
     },
     "execution_count": 1,
     "metadata": {},
     "output_type": "execute_result"
    }
   ],
   "source": [
    "'''\n",
    "This program implements a function that maps list of words into a list of integers representing the lengths of the corresponding words .\n",
    "'''\n",
    "def maps_length_list_of_words(list_of_words): #Defining maps_length_list_of_words function which takes list of words as an argument and returns the list of lengths of the corresponding words     \n",
    "    result_list = list(map(lambda x: len(x), list_of_words))\n",
    "    return result_list    \n",
    "\n",
    "test_list = ['Hello','AcadGild', 'Data', 'Science', 'Masters','Course']\n",
    "\n",
    "maps_length_list_of_words(test_list)"
   ]
  },
  {
   "cell_type": "code",
   "execution_count": null,
   "metadata": {},
   "outputs": [],
   "source": []
  }
 ],
 "metadata": {
  "kernelspec": {
   "display_name": "Python 3",
   "language": "python",
   "name": "python3"
  },
  "language_info": {
   "codemirror_mode": {
    "name": "ipython",
    "version": 3
   },
   "file_extension": ".py",
   "mimetype": "text/x-python",
   "name": "python",
   "nbconvert_exporter": "python",
   "pygments_lexer": "ipython3",
   "version": "3.6.4"
  }
 },
 "nbformat": 4,
 "nbformat_minor": 2
}
